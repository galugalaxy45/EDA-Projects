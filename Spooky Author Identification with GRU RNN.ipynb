{
 "cells": [
  {
   "cell_type": "markdown",
   "id": "544d40ff",
   "metadata": {},
   "source": [
    "## Spooky Author Identification"
   ]
  },
  {
   "cell_type": "markdown",
   "id": "71086c0c",
   "metadata": {},
   "source": [
    "The competition dataset contains text from works of fiction written by spooky authors of the public domain: Edgar Allan Poe, HP Lovecraft and Mary Shelley. The data was prepared by chunking larger texts into sentences using CoreNLP's MaxEnt sentence tokenizer, so you may notice the odd non-sentence here and there. Your objective is to accurately identify the author of the sentences in the test set."
   ]
  },
  {
   "cell_type": "markdown",
   "id": "38f57f70",
   "metadata": {},
   "source": [
    "#### Data fields\n",
    "* id - a unique identifier for each sentence\n",
    "* text - some text written by one of the authors\n",
    "* author - the author of the sentence (EAP: Edgar Allan Poe, HPL: HP Lovecraft; MWS: Mary Wollstonecraft Shelley)"
   ]
  },
  {
   "cell_type": "markdown",
   "id": "3239d8c2",
   "metadata": {},
   "source": [
    "You can also find the dataset <a href = \"https://www.kaggle.com/competitions/spooky-author-identification/overview\"> here</a>"
   ]
  },
  {
   "cell_type": "markdown",
   "id": "7b034367",
   "metadata": {},
   "source": [
    "***"
   ]
  },
  {
   "cell_type": "markdown",
   "id": "12c5b3b5",
   "metadata": {},
   "source": [
    "### Import necessary libraries"
   ]
  },
  {
   "cell_type": "code",
   "execution_count": 1,
   "id": "c407690c",
   "metadata": {},
   "outputs": [],
   "source": [
    "import pandas as pd\n",
    "import numpy as np\n",
    "import matplotlib.pyplot as plt\n",
    "import seaborn as sns\n",
    "from sklearn.model_selection import train_test_split\n",
    "import re\n",
    "from nltk.stem import WordNetLemmatizer\n",
    "from nltk.corpus import stopwords\n",
    "from sklearn.preprocessing import LabelBinarizer\n",
    "from tensorflow.keras.preprocessing.text import Tokenizer\n",
    "from tensorflow.keras.preprocessing.sequence import pad_sequences\n",
    "from tensorflow.keras import layers, Sequential\n",
    "from sklearn.metrics import confusion_matrix, accuracy_score, classification_report"
   ]
  },
  {
   "cell_type": "markdown",
   "id": "5dd4756d",
   "metadata": {},
   "source": [
    "### Read 'spooky.csv' dataset"
   ]
  },
  {
   "cell_type": "code",
   "execution_count": 2,
   "id": "34d171a9",
   "metadata": {},
   "outputs": [],
   "source": [
    "df=pd.read_csv('spooky.csv')"
   ]
  },
  {
   "cell_type": "code",
   "execution_count": 3,
   "id": "b39cc8c5",
   "metadata": {},
   "outputs": [
    {
     "data": {
      "text/html": [
       "<div>\n",
       "<style scoped>\n",
       "    .dataframe tbody tr th:only-of-type {\n",
       "        vertical-align: middle;\n",
       "    }\n",
       "\n",
       "    .dataframe tbody tr th {\n",
       "        vertical-align: top;\n",
       "    }\n",
       "\n",
       "    .dataframe thead th {\n",
       "        text-align: right;\n",
       "    }\n",
       "</style>\n",
       "<table border=\"1\" class=\"dataframe\">\n",
       "  <thead>\n",
       "    <tr style=\"text-align: right;\">\n",
       "      <th></th>\n",
       "      <th>id</th>\n",
       "      <th>text</th>\n",
       "      <th>author</th>\n",
       "    </tr>\n",
       "  </thead>\n",
       "  <tbody>\n",
       "    <tr>\n",
       "      <th>0</th>\n",
       "      <td>id26305</td>\n",
       "      <td>This process, however, afforded me no means of...</td>\n",
       "      <td>EAP</td>\n",
       "    </tr>\n",
       "    <tr>\n",
       "      <th>1</th>\n",
       "      <td>id17569</td>\n",
       "      <td>It never once occurred to me that the fumbling...</td>\n",
       "      <td>HPL</td>\n",
       "    </tr>\n",
       "    <tr>\n",
       "      <th>2</th>\n",
       "      <td>id11008</td>\n",
       "      <td>In his left hand was a gold snuff box, from wh...</td>\n",
       "      <td>EAP</td>\n",
       "    </tr>\n",
       "    <tr>\n",
       "      <th>3</th>\n",
       "      <td>id27763</td>\n",
       "      <td>How lovely is spring As we looked from Windsor...</td>\n",
       "      <td>MWS</td>\n",
       "    </tr>\n",
       "    <tr>\n",
       "      <th>4</th>\n",
       "      <td>id12958</td>\n",
       "      <td>Finding nothing else, not even gold, the Super...</td>\n",
       "      <td>HPL</td>\n",
       "    </tr>\n",
       "  </tbody>\n",
       "</table>\n",
       "</div>"
      ],
      "text/plain": [
       "        id                                               text author\n",
       "0  id26305  This process, however, afforded me no means of...    EAP\n",
       "1  id17569  It never once occurred to me that the fumbling...    HPL\n",
       "2  id11008  In his left hand was a gold snuff box, from wh...    EAP\n",
       "3  id27763  How lovely is spring As we looked from Windsor...    MWS\n",
       "4  id12958  Finding nothing else, not even gold, the Super...    HPL"
      ]
     },
     "execution_count": 3,
     "metadata": {},
     "output_type": "execute_result"
    }
   ],
   "source": [
    "df.head()"
   ]
  },
  {
   "cell_type": "markdown",
   "id": "0e077888",
   "metadata": {},
   "source": [
    "### Drop 'id' column"
   ]
  },
  {
   "cell_type": "code",
   "execution_count": 4,
   "id": "446135ed",
   "metadata": {},
   "outputs": [],
   "source": [
    "df=df.drop(columns='id')"
   ]
  },
  {
   "cell_type": "code",
   "execution_count": 5,
   "id": "1efcddd5",
   "metadata": {},
   "outputs": [
    {
     "data": {
      "text/html": [
       "<div>\n",
       "<style scoped>\n",
       "    .dataframe tbody tr th:only-of-type {\n",
       "        vertical-align: middle;\n",
       "    }\n",
       "\n",
       "    .dataframe tbody tr th {\n",
       "        vertical-align: top;\n",
       "    }\n",
       "\n",
       "    .dataframe thead th {\n",
       "        text-align: right;\n",
       "    }\n",
       "</style>\n",
       "<table border=\"1\" class=\"dataframe\">\n",
       "  <thead>\n",
       "    <tr style=\"text-align: right;\">\n",
       "      <th></th>\n",
       "      <th>text</th>\n",
       "      <th>author</th>\n",
       "    </tr>\n",
       "  </thead>\n",
       "  <tbody>\n",
       "    <tr>\n",
       "      <th>0</th>\n",
       "      <td>This process, however, afforded me no means of...</td>\n",
       "      <td>EAP</td>\n",
       "    </tr>\n",
       "    <tr>\n",
       "      <th>1</th>\n",
       "      <td>It never once occurred to me that the fumbling...</td>\n",
       "      <td>HPL</td>\n",
       "    </tr>\n",
       "    <tr>\n",
       "      <th>2</th>\n",
       "      <td>In his left hand was a gold snuff box, from wh...</td>\n",
       "      <td>EAP</td>\n",
       "    </tr>\n",
       "    <tr>\n",
       "      <th>3</th>\n",
       "      <td>How lovely is spring As we looked from Windsor...</td>\n",
       "      <td>MWS</td>\n",
       "    </tr>\n",
       "    <tr>\n",
       "      <th>4</th>\n",
       "      <td>Finding nothing else, not even gold, the Super...</td>\n",
       "      <td>HPL</td>\n",
       "    </tr>\n",
       "    <tr>\n",
       "      <th>...</th>\n",
       "      <td>...</td>\n",
       "      <td>...</td>\n",
       "    </tr>\n",
       "    <tr>\n",
       "      <th>19574</th>\n",
       "      <td>I could have fancied, while I looked at it, th...</td>\n",
       "      <td>EAP</td>\n",
       "    </tr>\n",
       "    <tr>\n",
       "      <th>19575</th>\n",
       "      <td>The lids clenched themselves together as if in...</td>\n",
       "      <td>EAP</td>\n",
       "    </tr>\n",
       "    <tr>\n",
       "      <th>19576</th>\n",
       "      <td>Mais il faut agir that is to say, a Frenchman ...</td>\n",
       "      <td>EAP</td>\n",
       "    </tr>\n",
       "    <tr>\n",
       "      <th>19577</th>\n",
       "      <td>For an item of news like this, it strikes us i...</td>\n",
       "      <td>EAP</td>\n",
       "    </tr>\n",
       "    <tr>\n",
       "      <th>19578</th>\n",
       "      <td>He laid a gnarled claw on my shoulder, and it ...</td>\n",
       "      <td>HPL</td>\n",
       "    </tr>\n",
       "  </tbody>\n",
       "</table>\n",
       "<p>19579 rows × 2 columns</p>\n",
       "</div>"
      ],
      "text/plain": [
       "                                                    text author\n",
       "0      This process, however, afforded me no means of...    EAP\n",
       "1      It never once occurred to me that the fumbling...    HPL\n",
       "2      In his left hand was a gold snuff box, from wh...    EAP\n",
       "3      How lovely is spring As we looked from Windsor...    MWS\n",
       "4      Finding nothing else, not even gold, the Super...    HPL\n",
       "...                                                  ...    ...\n",
       "19574  I could have fancied, while I looked at it, th...    EAP\n",
       "19575  The lids clenched themselves together as if in...    EAP\n",
       "19576  Mais il faut agir that is to say, a Frenchman ...    EAP\n",
       "19577  For an item of news like this, it strikes us i...    EAP\n",
       "19578  He laid a gnarled claw on my shoulder, and it ...    HPL\n",
       "\n",
       "[19579 rows x 2 columns]"
      ]
     },
     "execution_count": 5,
     "metadata": {},
     "output_type": "execute_result"
    }
   ],
   "source": [
    "df"
   ]
  },
  {
   "cell_type": "markdown",
   "id": "20b4579d",
   "metadata": {},
   "source": [
    "### Check for missing values"
   ]
  },
  {
   "cell_type": "code",
   "execution_count": 6,
   "id": "f0deb4e4",
   "metadata": {},
   "outputs": [
    {
     "data": {
      "text/plain": [
       "text      0\n",
       "author    0\n",
       "dtype: int64"
      ]
     },
     "execution_count": 6,
     "metadata": {},
     "output_type": "execute_result"
    }
   ],
   "source": [
    "df.isna().sum()"
   ]
  },
  {
   "cell_type": "markdown",
   "id": "004c7972",
   "metadata": {},
   "source": [
    "### Check for duplicates"
   ]
  },
  {
   "cell_type": "code",
   "execution_count": 9,
   "id": "52e14080",
   "metadata": {
    "scrolled": true
   },
   "outputs": [
    {
     "data": {
      "text/plain": [
       "0"
      ]
     },
     "execution_count": 9,
     "metadata": {},
     "output_type": "execute_result"
    }
   ],
   "source": [
    "df.duplicated().sum()"
   ]
  },
  {
   "cell_type": "markdown",
   "id": "b8edd7fe",
   "metadata": {},
   "source": [
    "### Print some of the text along with its author"
   ]
  },
  {
   "cell_type": "code",
   "execution_count": 10,
   "id": "5e9a9dcb",
   "metadata": {
    "scrolled": true
   },
   "outputs": [
    {
     "name": "stdout",
     "output_type": "stream",
     "text": [
      "This process, however, afforded me no means of ascertaining the dimensions of my dungeon; as I might make its circuit, and return to the point whence I set out, without being aware of the fact; so perfectly uniform seemed the wall. --- EAP\n",
      "\n",
      "It never once occurred to me that the fumbling might be a mere mistake. --- HPL\n",
      "\n",
      "In his left hand was a gold snuff box, from which, as he capered down the hill, cutting all manner of fantastic steps, he took snuff incessantly with an air of the greatest possible self satisfaction. --- EAP\n",
      "\n",
      "How lovely is spring As we looked from Windsor Terrace on the sixteen fertile counties spread beneath, speckled by happy cottages and wealthier towns, all looked as in former years, heart cheering and fair. --- MWS\n",
      "\n",
      "Finding nothing else, not even gold, the Superintendent abandoned his attempts; but a perplexed look occasionally steals over his countenance as he sits thinking at his desk. --- HPL\n",
      "\n"
     ]
    }
   ],
   "source": [
    "for i in range(5):\n",
    "    print(df['text'][i],'---',df['author'][i])\n",
    "    print()"
   ]
  },
  {
   "cell_type": "markdown",
   "id": "f15928e1",
   "metadata": {},
   "source": [
    "### Create a function to preproces the text"
   ]
  },
  {
   "cell_type": "code",
   "execution_count": 12,
   "id": "1fd6274e",
   "metadata": {},
   "outputs": [],
   "source": [
    "def preprocess(sentence):\n",
    "    text= re.sub(r\"[^0-9a-zA-Z]\",\" \",sentence).split()\n",
    "    \n",
    "    words=[x.lower() for x in text if x not in stopwords.words('english')]\n",
    "    \n",
    "    lemma=WordNetLemmatizer()\n",
    "    \n",
    "    word=[lemma.lemmatize(word,'v') for word in words]\n",
    "    \n",
    "    word=\" \".join(word)\n",
    "    \n",
    "    return word"
   ]
  },
  {
   "cell_type": "code",
   "execution_count": 13,
   "id": "9d9ef6a6",
   "metadata": {},
   "outputs": [],
   "source": [
    "df['text']=df['text'].apply(preprocess)"
   ]
  },
  {
   "cell_type": "markdown",
   "id": "b97a5bef",
   "metadata": {},
   "source": [
    "### Print some of the text after preprocess"
   ]
  },
  {
   "cell_type": "code",
   "execution_count": 14,
   "id": "db75e827",
   "metadata": {},
   "outputs": [
    {
     "name": "stdout",
     "output_type": "stream",
     "text": [
      "this process however afford mean ascertain dimension dungeon i might make circuit return point whence i set without aware fact perfectly uniform seem wall --- EAP\n",
      "\n",
      "it never occur fumble might mere mistake --- HPL\n",
      "\n",
      "in leave hand gold snuff box caper hill cut manner fantastic step take snuff incessantly air greatest possible self satisfaction --- EAP\n",
      "\n",
      "how lovely spring as look windsor terrace sixteen fertile counties spread beneath speckle happy cottages wealthier towns look former years heart cheer fair --- MWS\n",
      "\n",
      "find nothing else even gold superintendent abandon attempt perplex look occasionally steal countenance sit think desk --- HPL\n",
      "\n"
     ]
    }
   ],
   "source": [
    "for i in range(5):\n",
    "    print(df['text'][i],'---',df['author'][i])\n",
    "    print()"
   ]
  },
  {
   "cell_type": "markdown",
   "id": "fcf2c9b4",
   "metadata": {},
   "source": [
    "### Check for imbalance in the dataset"
   ]
  },
  {
   "cell_type": "code",
   "execution_count": 27,
   "id": "9975073f",
   "metadata": {},
   "outputs": [
    {
     "data": {
      "text/plain": [
       "<function matplotlib.pyplot.show(close=None, block=None)>"
      ]
     },
     "execution_count": 27,
     "metadata": {},
     "output_type": "execute_result"
    },
    {
     "data": {
      "image/png": "[encoded data removed]",
      "text/plain": [
       "<Figure size 1000x800 with 2 Axes>"
      ]
     },
     "metadata": {},
     "output_type": "display_data"
    }
   ],
   "source": [
    "plt.figure(figsize=(10,8))\n",
    "plt.subplot(1,2,1)\n",
    "sns.countplot(y=df['author'])\n",
    "plt.subplot(1,2,2)\n",
    "plt.pie(x=df['author'].value_counts(),labels=df['author'].value_counts().index,autopct='%1.1f%%')\n",
    "plt.show"
   ]
  },
  {
   "cell_type": "markdown",
   "id": "947216be",
   "metadata": {},
   "source": [
    "### Split the dataset into Input & Target Variables"
   ]
  },
  {
   "cell_type": "code",
   "execution_count": 28,
   "id": "b0b8e053",
   "metadata": {},
   "outputs": [],
   "source": [
    "X = df['text']\n",
    "y = df['author']"
   ]
  },
  {
   "cell_type": "markdown",
   "id": "0a878bb4",
   "metadata": {},
   "source": [
    "### Label Encode our target variables"
   ]
  },
  {
   "cell_type": "code",
   "execution_count": 29,
   "id": "84e02289",
   "metadata": {},
   "outputs": [],
   "source": [
    "encoder=LabelBinarizer()\n",
    "y=encoder.fit_transform(y)"
   ]
  },
  {
   "cell_type": "markdown",
   "id": "fdec3f7c",
   "metadata": {},
   "source": [
    "### Create Keras tokenizer object with 5000 max words\n",
    "* Convert text to sequence\n",
    "* Add padding"
   ]
  },
  {
   "cell_type": "code",
   "execution_count": 30,
   "id": "cef81ba4",
   "metadata": {},
   "outputs": [],
   "source": [
    "tokenizer=Tokenizer(num_words=5000)"
   ]
  },
  {
   "cell_type": "code",
   "execution_count": 31,
   "id": "2f6a6faf",
   "metadata": {},
   "outputs": [],
   "source": [
    "tokenizer.fit_on_texts(X)"
   ]
  },
  {
   "cell_type": "code",
   "execution_count": 35,
   "id": "2945d07c",
   "metadata": {},
   "outputs": [],
   "source": [
    "vocab_size=len(tokenizer.word_index)+1"
   ]
  },
  {
   "cell_type": "code",
   "execution_count": 36,
   "id": "05eb5180",
   "metadata": {},
   "outputs": [],
   "source": [
    "def text_encoding(txt):\n",
    "    encoded_doc = tokenizer.texts_to_sequences(txt)\n",
    "    \n",
    "    padded_sequence = pad_sequences(encoded_doc,maxlen=128)\n",
    "    \n",
    "    return padded_sequence"
   ]
  },
  {
   "cell_type": "code",
   "execution_count": 37,
   "id": "6208bb75",
   "metadata": {},
   "outputs": [],
   "source": [
    "X = text_encoding(X)"
   ]
  },
  {
   "cell_type": "markdown",
   "id": "877d7883",
   "metadata": {},
   "source": [
    "### Split the dataset into Training & Testing set"
   ]
  },
  {
   "cell_type": "code",
   "execution_count": 38,
   "id": "44d1398f",
   "metadata": {},
   "outputs": [],
   "source": [
    "X_train,X_test,y_train,y_test=train_test_split(X,y,test_size=0.2)"
   ]
  },
  {
   "cell_type": "markdown",
   "id": "11d2e388",
   "metadata": {},
   "source": [
    "### Create keras Sequential model with GRU layers"
   ]
  },
  {
   "cell_type": "code",
   "execution_count": 39,
   "id": "619fa950",
   "metadata": {},
   "outputs": [],
   "source": [
    "model = Sequential()\n",
    "\n",
    "model.add(layers.Embedding(vocab_size,128))\n",
    "\n",
    "model.add(layers.GRU(128,return_sequences=True))\n",
    "model.add(layers.Dropout(0.2))\n",
    "\n",
    "model.add(layers.GRU(128))\n",
    "model.add(layers.Dropout(0.2))\n",
    "\n",
    "model.add(layers.Dense(64,activation='relu'))\n",
    "model.add(layers.Dropout(0.2))\n",
    "\n",
    "model.add(layers.Dense(3,activation='softmax'))"
   ]
  },
  {
   "cell_type": "markdown",
   "id": "4cd30def",
   "metadata": {},
   "source": [
    "### Compile the model"
   ]
  },
  {
   "cell_type": "code",
   "execution_count": 40,
   "id": "b633bb85",
   "metadata": {},
   "outputs": [],
   "source": [
    "model.compile(loss='categorical_crossentropy',optimizer='adam',metrics=['accuracy'])"
   ]
  },
  {
   "cell_type": "markdown",
   "id": "4518b6ba",
   "metadata": {},
   "source": [
    "### Train the model"
   ]
  },
  {
   "cell_type": "code",
   "execution_count": 41,
   "id": "98b6fd96",
   "metadata": {},
   "outputs": [
    {
     "name": "stdout",
     "output_type": "stream",
     "text": [
      "Epoch 1/10\n",
      "465/465 [==============================] - 68s 144ms/step - loss: 0.6965 - accuracy: 0.6902 - val_loss: 0.5409 - val_accuracy: 0.7755\n",
      "Epoch 2/10\n",
      "465/465 [==============================] - 66s 141ms/step - loss: 0.3809 - accuracy: 0.8525 - val_loss: 0.5422 - val_accuracy: 0.7768\n",
      "Epoch 3/10\n",
      "465/465 [==============================] - 67s 145ms/step - loss: 0.2911 - accuracy: 0.8880 - val_loss: 0.6154 - val_accuracy: 0.7679\n",
      "Epoch 4/10\n",
      "465/465 [==============================] - 68s 146ms/step - loss: 0.2071 - accuracy: 0.9202 - val_loss: 0.6559 - val_accuracy: 0.7577\n",
      "Epoch 5/10\n",
      "465/465 [==============================] - 68s 147ms/step - loss: 0.1489 - accuracy: 0.9448 - val_loss: 0.8595 - val_accuracy: 0.7602\n",
      "Epoch 6/10\n",
      "465/465 [==============================] - 125s 270ms/step - loss: 0.1162 - accuracy: 0.9550 - val_loss: 1.0229 - val_accuracy: 0.7436\n",
      "Epoch 7/10\n",
      "465/465 [==============================] - 71s 153ms/step - loss: 0.0921 - accuracy: 0.9645 - val_loss: 1.1954 - val_accuracy: 0.7462\n",
      "Epoch 8/10\n",
      "465/465 [==============================] - 123s 264ms/step - loss: 0.0757 - accuracy: 0.9713 - val_loss: 1.2257 - val_accuracy: 0.7309\n",
      "Epoch 9/10\n",
      "465/465 [==============================] - 69s 149ms/step - loss: 0.0641 - accuracy: 0.9766 - val_loss: 1.4951 - val_accuracy: 0.7564\n",
      "Epoch 10/10\n",
      "465/465 [==============================] - 93s 200ms/step - loss: 0.0582 - accuracy: 0.9778 - val_loss: 1.4735 - val_accuracy: 0.7449\n"
     ]
    },
    {
     "data": {
      "text/plain": [
       "<keras.src.callbacks.History at 0x28f6c80d0>"
      ]
     },
     "execution_count": 41,
     "metadata": {},
     "output_type": "execute_result"
    }
   ],
   "source": [
    "model.fit(X_train,y_train,epochs=10,validation_split=0.05)"
   ]
  },
  {
   "cell_type": "markdown",
   "id": "105de566",
   "metadata": {},
   "source": [
    "### Make predictions with X_test"
   ]
  },
  {
   "cell_type": "code",
   "execution_count": 43,
   "id": "5a5577d7",
   "metadata": {},
   "outputs": [
    {
     "name": "stdout",
     "output_type": "stream",
     "text": [
      "123/123 [==============================] - 5s 38ms/step\n"
     ]
    }
   ],
   "source": [
    "y_pred=model.predict(X_test)"
   ]
  },
  {
   "cell_type": "markdown",
   "id": "beecac60",
   "metadata": {},
   "source": [
    "### Fetch the index of the higher probable prediction"
   ]
  },
  {
   "cell_type": "code",
   "execution_count": 45,
   "id": "0324e9a7",
   "metadata": {},
   "outputs": [],
   "source": [
    "y_pred=[np.argmax(i) for i in y_pred]\n",
    "y_test=[np.argmax(i) for i in y_test]"
   ]
  },
  {
   "cell_type": "markdown",
   "id": "7f28fbe9",
   "metadata": {},
   "source": [
    "### Evaluate the model"
   ]
  },
  {
   "cell_type": "markdown",
   "id": "cef4dce8",
   "metadata": {},
   "source": [
    "#### Accuracy score"
   ]
  },
  {
   "cell_type": "code",
   "execution_count": 46,
   "id": "4a2ea02e",
   "metadata": {},
   "outputs": [
    {
     "data": {
      "text/plain": [
       "0.4131767109295199"
      ]
     },
     "execution_count": 46,
     "metadata": {},
     "output_type": "execute_result"
    }
   ],
   "source": [
    "accuracy_score(y_test,y_pred)"
   ]
  },
  {
   "cell_type": "markdown",
   "id": "3081c7e1",
   "metadata": {},
   "source": [
    "#### Confusion matrix"
   ]
  },
  {
   "cell_type": "code",
   "execution_count": 47,
   "id": "5fe9a7b8",
   "metadata": {},
   "outputs": [
    {
     "data": {
      "text/plain": [
       "<Axes: >"
      ]
     },
     "execution_count": 47,
     "metadata": {},
     "output_type": "execute_result"
    },
    {
     "data": {
      "image/png": "[encoded data removed]",
      "text/plain": [
       "<Figure size 640x480 with 2 Axes>"
      ]
     },
     "metadata": {},
     "output_type": "display_data"
    }
   ],
   "source": [
    "sns.heatmap(confusion_matrix(y_test,y_pred),annot=True,fmt='d')"
   ]
  },
  {
   "cell_type": "markdown",
   "id": "b3d8877e",
   "metadata": {},
   "source": [
    "#### Classification Report"
   ]
  },
  {
   "cell_type": "code",
   "execution_count": 48,
   "id": "ed6b7c1f",
   "metadata": {},
   "outputs": [
    {
     "name": "stdout",
     "output_type": "stream",
     "text": [
      "              precision    recall  f1-score   support\n",
      "\n",
      "           0       0.41      1.00      0.58      1618\n",
      "           1       0.00      0.00      0.00      1111\n",
      "           2       0.00      0.00      0.00      1187\n",
      "\n",
      "    accuracy                           0.41      3916\n",
      "   macro avg       0.14      0.33      0.19      3916\n",
      "weighted avg       0.17      0.41      0.24      3916\n",
      "\n"
     ]
    },
    {
     "name": "stderr",
     "output_type": "stream",
     "text": [
      "/Users/galaxys/anaconda3/lib/python3.11/site-packages/sklearn/metrics/_classification.py:1469: UndefinedMetricWarning: Precision and F-score are ill-defined and being set to 0.0 in labels with no predicted samples. Use `zero_division` parameter to control this behavior.\n",
      "  _warn_prf(average, modifier, msg_start, len(result))\n",
      "/Users/galaxys/anaconda3/lib/python3.11/site-packages/sklearn/metrics/_classification.py:1469: UndefinedMetricWarning: Precision and F-score are ill-defined and being set to 0.0 in labels with no predicted samples. Use `zero_division` parameter to control this behavior.\n",
      "  _warn_prf(average, modifier, msg_start, len(result))\n",
      "/Users/galaxys/anaconda3/lib/python3.11/site-packages/sklearn/metrics/_classification.py:1469: UndefinedMetricWarning: Precision and F-score are ill-defined and being set to 0.0 in labels with no predicted samples. Use `zero_division` parameter to control this behavior.\n",
      "  _warn_prf(average, modifier, msg_start, len(result))\n"
     ]
    }
   ],
   "source": [
    "print(classification_report(y_test,y_pred))"
   ]
  },
  {
   "cell_type": "markdown",
   "id": "5dcb2e61",
   "metadata": {},
   "source": [
    "***"
   ]
  }
 ],
 "metadata": {
  "kernelspec": {
   "display_name": "Python 3 (ipykernel)",
   "language": "python",
   "name": "python3"
  },
  "language_info": {
   "codemirror_mode": {
    "name": "ipython",
    "version": 3
   },
   "file_extension": ".py",
   "mimetype": "text/x-python",
   "name": "python",
   "nbconvert_exporter": "python",
   "pygments_lexer": "ipython3",
   "version": "3.11.5"
  }
 },
 "nbformat": 4,
 "nbformat_minor": 5
}

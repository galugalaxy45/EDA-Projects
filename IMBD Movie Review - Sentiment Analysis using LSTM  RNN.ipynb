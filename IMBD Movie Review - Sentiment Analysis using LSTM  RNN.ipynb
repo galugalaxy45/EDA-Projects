{
 "cells": [
  {
   "cell_type": "markdown",
   "id": "0dfed2dd",
   "metadata": {},
   "source": [
    "### IMBD Movie review Classification Project"
   ]
  },
  {
   "cell_type": "markdown",
   "id": "20170a0a",
   "metadata": {},
   "source": [
    "***"
   ]
  },
  {
   "cell_type": "markdown",
   "id": "7860c4cd",
   "metadata": {},
   "source": [
    "IMDB dataset having 50K movie reviews for natural language processing or Text analytics.\n",
    "\n",
    "This is a dataset for binary sentiment classification containing substantially more data than previous benchmark datasets. We provide a set of 25,000 highly polar movie reviews for training and 25,000 for testing. So, predict the number of positive and negative reviews using either classification or deep learning algorithms."
   ]
  },
  {
   "cell_type": "markdown",
   "id": "c6c162e4",
   "metadata": {},
   "source": [
    "You can also download the dataset <a href = \"https://www.kaggle.com/datasets/lakshmi25npathi/imdb-dataset-of-50k-movie-reviews\">here </a>"
   ]
  },
  {
   "cell_type": "markdown",
   "id": "d37a0303",
   "metadata": {},
   "source": [
    "***"
   ]
  },
  {
   "cell_type": "markdown",
   "id": "324dff02",
   "metadata": {},
   "source": [
    "### Import necessary libraries"
   ]
  },
  {
   "cell_type": "code",
   "execution_count": 1,
   "id": "d382482c",
   "metadata": {},
   "outputs": [],
   "source": [
    "import pandas as pd\n",
    "import numpy as np\n",
    "import matplotlib.pyplot as plt\n",
    "import seaborn as sns\n",
    "from sklearn.model_selection import train_test_split"
   ]
  },
  {
   "cell_type": "markdown",
   "id": "bde0af29",
   "metadata": {},
   "source": [
    "### Read IMDB Dataset"
   ]
  },
  {
   "cell_type": "code",
   "execution_count": 2,
   "id": "6c0f2108",
   "metadata": {},
   "outputs": [],
   "source": [
    "df=pd.read_csv('IMDB Dataset.csv')"
   ]
  },
  {
   "cell_type": "code",
   "execution_count": 3,
   "id": "711e6efa",
   "metadata": {},
   "outputs": [
    {
     "data": {
      "text/html": [
       "<div>\n",
       "<style scoped>\n",
       "    .dataframe tbody tr th:only-of-type {\n",
       "        vertical-align: middle;\n",
       "    }\n",
       "\n",
       "    .dataframe tbody tr th {\n",
       "        vertical-align: top;\n",
       "    }\n",
       "\n",
       "    .dataframe thead th {\n",
       "        text-align: right;\n",
       "    }\n",
       "</style>\n",
       "<table border=\"1\" class=\"dataframe\">\n",
       "  <thead>\n",
       "    <tr style=\"text-align: right;\">\n",
       "      <th></th>\n",
       "      <th>review</th>\n",
       "      <th>sentiment</th>\n",
       "    </tr>\n",
       "  </thead>\n",
       "  <tbody>\n",
       "    <tr>\n",
       "      <th>0</th>\n",
       "      <td>One of the other reviewers has mentioned that ...</td>\n",
       "      <td>positive</td>\n",
       "    </tr>\n",
       "    <tr>\n",
       "      <th>1</th>\n",
       "      <td>A wonderful little production. &lt;br /&gt;&lt;br /&gt;The...</td>\n",
       "      <td>positive</td>\n",
       "    </tr>\n",
       "    <tr>\n",
       "      <th>2</th>\n",
       "      <td>I thought this was a wonderful way to spend ti...</td>\n",
       "      <td>positive</td>\n",
       "    </tr>\n",
       "    <tr>\n",
       "      <th>3</th>\n",
       "      <td>Basically there's a family where a little boy ...</td>\n",
       "      <td>negative</td>\n",
       "    </tr>\n",
       "    <tr>\n",
       "      <th>4</th>\n",
       "      <td>Petter Mattei's \"Love in the Time of Money\" is...</td>\n",
       "      <td>positive</td>\n",
       "    </tr>\n",
       "  </tbody>\n",
       "</table>\n",
       "</div>"
      ],
      "text/plain": [
       "                                              review sentiment\n",
       "0  One of the other reviewers has mentioned that ...  positive\n",
       "1  A wonderful little production. <br /><br />The...  positive\n",
       "2  I thought this was a wonderful way to spend ti...  positive\n",
       "3  Basically there's a family where a little boy ...  negative\n",
       "4  Petter Mattei's \"Love in the Time of Money\" is...  positive"
      ]
     },
     "execution_count": 3,
     "metadata": {},
     "output_type": "execute_result"
    }
   ],
   "source": [
    "df.head()"
   ]
  },
  {
   "cell_type": "markdown",
   "id": "65c1e3b9",
   "metadata": {},
   "source": [
    "### Check Info"
   ]
  },
  {
   "cell_type": "code",
   "execution_count": 4,
   "id": "14a066b0",
   "metadata": {},
   "outputs": [
    {
     "name": "stdout",
     "output_type": "stream",
     "text": [
      "<class 'pandas.core.frame.DataFrame'>\n",
      "RangeIndex: 50000 entries, 0 to 49999\n",
      "Data columns (total 2 columns):\n",
      " #   Column     Non-Null Count  Dtype \n",
      "---  ------     --------------  ----- \n",
      " 0   review     50000 non-null  object\n",
      " 1   sentiment  50000 non-null  object\n",
      "dtypes: object(2)\n",
      "memory usage: 781.4+ KB\n"
     ]
    }
   ],
   "source": [
    "df.info()"
   ]
  },
  {
   "cell_type": "markdown",
   "id": "bbde79dc",
   "metadata": {},
   "source": [
    "### View descriptive stats"
   ]
  },
  {
   "cell_type": "code",
   "execution_count": 5,
   "id": "725be31e",
   "metadata": {},
   "outputs": [
    {
     "data": {
      "text/html": [
       "<div>\n",
       "<style scoped>\n",
       "    .dataframe tbody tr th:only-of-type {\n",
       "        vertical-align: middle;\n",
       "    }\n",
       "\n",
       "    .dataframe tbody tr th {\n",
       "        vertical-align: top;\n",
       "    }\n",
       "\n",
       "    .dataframe thead th {\n",
       "        text-align: right;\n",
       "    }\n",
       "</style>\n",
       "<table border=\"1\" class=\"dataframe\">\n",
       "  <thead>\n",
       "    <tr style=\"text-align: right;\">\n",
       "      <th></th>\n",
       "      <th>review</th>\n",
       "      <th>sentiment</th>\n",
       "    </tr>\n",
       "  </thead>\n",
       "  <tbody>\n",
       "    <tr>\n",
       "      <th>count</th>\n",
       "      <td>50000</td>\n",
       "      <td>50000</td>\n",
       "    </tr>\n",
       "    <tr>\n",
       "      <th>unique</th>\n",
       "      <td>49582</td>\n",
       "      <td>2</td>\n",
       "    </tr>\n",
       "    <tr>\n",
       "      <th>top</th>\n",
       "      <td>Loved today's show!!! It was a variety and not...</td>\n",
       "      <td>positive</td>\n",
       "    </tr>\n",
       "    <tr>\n",
       "      <th>freq</th>\n",
       "      <td>5</td>\n",
       "      <td>25000</td>\n",
       "    </tr>\n",
       "  </tbody>\n",
       "</table>\n",
       "</div>"
      ],
      "text/plain": [
       "                                                   review sentiment\n",
       "count                                               50000     50000\n",
       "unique                                              49582         2\n",
       "top     Loved today's show!!! It was a variety and not...  positive\n",
       "freq                                                    5     25000"
      ]
     },
     "execution_count": 5,
     "metadata": {},
     "output_type": "execute_result"
    }
   ],
   "source": [
    "df.describe()"
   ]
  },
  {
   "cell_type": "code",
   "execution_count": 6,
   "id": "52bfbe60",
   "metadata": {},
   "outputs": [
    {
     "data": {
      "text/plain": [
       "review       0\n",
       "sentiment    0\n",
       "dtype: int64"
      ]
     },
     "execution_count": 6,
     "metadata": {},
     "output_type": "execute_result"
    }
   ],
   "source": [
    "df.isna().sum()"
   ]
  },
  {
   "cell_type": "code",
   "execution_count": 7,
   "id": "d3f3e273",
   "metadata": {},
   "outputs": [
    {
     "data": {
      "text/plain": [
       "418"
      ]
     },
     "execution_count": 7,
     "metadata": {},
     "output_type": "execute_result"
    }
   ],
   "source": [
    "df.duplicated().sum()"
   ]
  },
  {
   "cell_type": "code",
   "execution_count": 8,
   "id": "2818d555",
   "metadata": {},
   "outputs": [],
   "source": [
    "df=df.drop_duplicates()"
   ]
  },
  {
   "cell_type": "code",
   "execution_count": 9,
   "id": "04a02e5f",
   "metadata": {},
   "outputs": [
    {
     "data": {
      "text/plain": [
       "0"
      ]
     },
     "execution_count": 9,
     "metadata": {},
     "output_type": "execute_result"
    }
   ],
   "source": [
    "df.duplicated().sum()"
   ]
  },
  {
   "cell_type": "markdown",
   "id": "cf3f09ff",
   "metadata": {},
   "source": [
    "### Check for imbalanced data"
   ]
  },
  {
   "cell_type": "code",
   "execution_count": 10,
   "id": "8c686415",
   "metadata": {},
   "outputs": [
    {
     "data": {
      "text/plain": [
       "<Axes: xlabel='count', ylabel='sentiment'>"
      ]
     },
     "execution_count": 10,
     "metadata": {},
     "output_type": "execute_result"
    },
    {
     "data": {
      "image/png": "[encoded data removed]",
      "text/plain": [
       "<Figure size 640x480 with 1 Axes>"
      ]
     },
     "metadata": {},
     "output_type": "display_data"
    }
   ],
   "source": [
    "sns.countplot(data=df,y='sentiment')"
   ]
  },
  {
   "cell_type": "code",
   "execution_count": 11,
   "id": "75f37ab0",
   "metadata": {},
   "outputs": [
    {
     "data": {
      "text/plain": [
       "24884"
      ]
     },
     "execution_count": 11,
     "metadata": {},
     "output_type": "execute_result"
    }
   ],
   "source": [
    "(df['sentiment']=='positive').sum()"
   ]
  },
  {
   "cell_type": "code",
   "execution_count": 12,
   "id": "1cd3364b",
   "metadata": {},
   "outputs": [
    {
     "data": {
      "text/plain": [
       "24698"
      ]
     },
     "execution_count": 12,
     "metadata": {},
     "output_type": "execute_result"
    }
   ],
   "source": [
    "(df['sentiment']=='negative').sum()"
   ]
  },
  {
   "cell_type": "code",
   "execution_count": 13,
   "id": "91f25f9a",
   "metadata": {},
   "outputs": [
    {
     "data": {
      "text/plain": [
       "Text(0.5, 1.0, 'Pie chart')"
      ]
     },
     "execution_count": 13,
     "metadata": {},
     "output_type": "execute_result"
    },
    {
     "data": {
      "image/png": "[encoded data removed]",
      "text/plain": [
       "<Figure size 640x480 with 1 Axes>"
      ]
     },
     "metadata": {},
     "output_type": "display_data"
    }
   ],
   "source": [
    "sentiment_counts=df['sentiment'].value_counts()\n",
    "plt.pie(sentiment_counts,colors=['violet','red'], labels=sentiment_counts.index,autopct='%1.1f%%')\n",
    "plt.ylabel('sentiment')\n",
    "plt.title('Pie chart')"
   ]
  },
  {
   "cell_type": "markdown",
   "id": "176350f2",
   "metadata": {},
   "source": [
    "### Create a function to Preprocess the review column"
   ]
  },
  {
   "cell_type": "code",
   "execution_count": 14,
   "id": "8f1587c3",
   "metadata": {},
   "outputs": [],
   "source": [
    "import re\n",
    "from nltk.corpus import stopwords\n",
    "from nltk.stem import WordNetLemmatizer"
   ]
  },
  {
   "cell_type": "code",
   "execution_count": 15,
   "id": "5dfaeaea",
   "metadata": {},
   "outputs": [],
   "source": [
    "def preprocess(sentence):\n",
    "    \n",
    "    text=re.sub(r\"[^a-zA-Z0-9]\",\" \",sentence).split()\n",
    "    \n",
    "    text=[i.lower() for i in text]\n",
    "    \n",
    "    lemma=WordNetLemmatizer()\n",
    "    text=[lemma.lemmatize(word,'v') for word in text ]\n",
    "    \n",
    "    return ' '.join(text)"
   ]
  },
  {
   "cell_type": "code",
   "execution_count": 16,
   "id": "0d3e4cbc",
   "metadata": {},
   "outputs": [],
   "source": [
    "#apply function in review column\n",
    "df['review']=df['review'].apply(preprocess)"
   ]
  },
  {
   "cell_type": "markdown",
   "id": "9253f786",
   "metadata": {},
   "source": [
    "### Print some text after applying the function"
   ]
  },
  {
   "cell_type": "code",
   "execution_count": 17,
   "id": "e58f6149",
   "metadata": {},
   "outputs": [
    {
     "name": "stdout",
     "output_type": "stream",
     "text": [
      "one of the other reviewers have mention that after watch just 1 oz episode you ll be hook they be right as this be exactly what happen with me br br the first thing that strike me about oz be its brutality and unflinching scenes of violence which set in right from the word go trust me this be not a show for the faint hearted or timid this show pull no punch with regard to drug sex or violence its be hardcore in the classic use of the word br br it be call oz as that be the nickname give to the oswald maximum security state penitentary it focus mainly on emerald city an experimental section of the prison where all the cells have glass front and face inwards so privacy be not high on the agenda em city be home to many aryans muslims gangstas latinos christians italians irish and more so scuffle death star dodgy deal and shady agreements be never far away br br i would say the main appeal of the show be due to the fact that it go where other show wouldn t dare forget pretty picture paint for mainstream audiences forget charm forget romance oz doesn t mess around the first episode i ever saw strike me as so nasty it be surreal i couldn t say i be ready for it but as i watch more i develop a taste for oz and get accustom to the high level of graphic violence not just violence but injustice crook guard who ll be sell out for a nickel inmates who ll kill on order and get away with it well mannered middle class inmates be turn into prison bitch due to their lack of street skills or prison experience watch oz you may become comfortable with what be uncomfortable view thats if you can get in touch with your darker side\n",
      "\n",
      "a wonderful little production br br the film technique be very unassuming very old time bbc fashion and give a comfort and sometimes discomforting sense of realism to the entire piece br br the actors be extremely well choose michael sheen not only have get all the polari but he have all the voice down pat too you can truly see the seamless edit guide by the reference to williams diary entries not only be it well worth the watch but it be a terrificly write and perform piece a masterful production about one of the great master s of comedy and his life br br the realism really come home with the little things the fantasy of the guard which rather than use the traditional dream techniques remain solid then disappear it play on our knowledge and our sense particularly with the scenes concern orton and halliwell and the set particularly of their flat with halliwell s murals decorate every surface be terribly well do\n",
      "\n",
      "i think this be a wonderful way to spend time on a too hot summer weekend sit in the air condition theater and watch a light hearted comedy the plot be simplistic but the dialogue be witty and the character be likable even the well bread suspect serial killer while some may be disappoint when they realize this be not match point 2 risk addiction i think it be proof that woody allen be still fully in control of the style many of us have grow to love br br this be the most i d laugh at one of woody s comedies in years dare i say a decade while i ve never be impress with scarlet johanson in this she manage to tone down her sexy image and jump right into a average but spirit young woman br br this may not be the crown jewel of his career but it be wittier than devil wear prada and more interest than superman a great comedy to go see with friends\n",
      "\n",
      "basically there s a family where a little boy jake think there s a zombie in his closet his parent be fight all the time br br this movie be slower than a soap opera and suddenly jake decide to become rambo and kill the zombie br br ok first of all when you re go to make a film you must decide if its a thriller or a drama as a drama the movie be watchable parent be divorce argue like in real life and then we have jake with his closet which totally ruin all the film i expect to see a boogeyman similar movie and instead i watch a drama with some meaningless thriller spot br br 3 out of 10 just for the well play parent descent dialogs as for the shots with jake just ignore them\n",
      "\n",
      "petter mattei s love in the time of money be a visually stun film to watch mr mattei offer us a vivid portrait about human relations this be a movie that seem to be tell us what money power and success do to people in the different situations we encounter br br this be a variation on the arthur schnitzler s play about the same theme the director transfer the action to the present time new york where all these different character meet and connect each one be connect in one way or another to the next person but no one seem to know the previous point of contact stylishly the film have a sophisticate luxurious look we be take to see how these people live and the world they live in their own habitat br br the only thing one get out of all these souls in the picture be the different stag of loneliness each one inhabit a big city be not exactly the best place in which human relations find sincere fulfillment as one discern be the case with most of the people we encounter br br the act be good under mr mattei s direction steve buscemi rosario dawson carol kane michael imperioli adrian grenier and the rest of the talented cast make these character come alive br br we wish mr mattei good luck and await anxiously for his next work\n",
      "\n",
      "probably my all time favorite movie a story of selflessness sacrifice and dedication to a noble cause but it s not preachy or bore it just never get old despite my have see it some 15 or more time in the last 25 years paul lukas performance bring tear to my eye and bette davis in one of her very few truly sympathetic roles be a delight the kid be as grandma say more like dress up midgets than children but that only make them more fun to watch and the mother s slow awaken to what s happen in the world and under her own roof be believable and startle if i have a dozen thumb they d all be up for this movie\n",
      "\n",
      "i sure would like to see a resurrection of a up date seahunt series with the tech they have today it would bring back the kid excitement in me i grow up on black and white tv and seahunt with gunsmoke be my hero s every week you have my vote for a comeback of a new sea hunt we need a change of pace in tv and this would work for a world of under water adventure oh by the way thank you for an outlet like this to view many viewpoints about tv and the many movies so any ole way i believe i ve get what i wanna say would be nice to read some more plus point about sea hunt if my rhyme would be 10 line would you let me submit or leave me out to be in doubt and have me to quit if this be so then i must go so let do it\n",
      "\n",
      "this show be an amaze fresh innovative idea in the 70 s when it first air the first 7 or 8 years be brilliant but things drop off after that by 1990 the show be not really funny anymore and it s continue its decline further to the complete waste of time it be today br br it s truly disgraceful how far this show have fall the write be painfully bad the performances be almost as bad if not for the mildly entertain respite of the guest host this show probably wouldn t still be on the air i find it so hard to believe that the same creator that hand select the original cast also choose the band of hack that follow how can one recognize such brilliance and then see fit to replace it with such mediocrity i felt i must give 2 star out of respect for the original cast that make this show such a huge success as it be now the show be just awful i can t believe it s still on the air\n",
      "\n",
      "encourage by the positive comment about this film on here i be look forward to watch this film bad mistake i ve see 950 film and this be truly one of the worst of them it s awful in almost every way edit pace storyline act soundtrack the film s only song a lame country tune be play no less than four time the film look cheap and nasty and be bore in the extreme rarely have i be so happy to see the end credit of a film br br the only thing that prevent me give this a 1 score be harvey keitel while this be far from his best performance he at least seem to be make a bite of an effort one for keitel obsessives only\n",
      "\n",
      "if you like original gut wrench laughter you will like this movie if you be young or old then you will love this movie hell even my mom like it br br great camp\n",
      "\n",
      "phil the alien be one of those quirky film where the humour be base around the oddness of everything rather than actual punchlines br br at first it be very odd and pretty funny but as the movie progress i didn t find the joke or oddness funny anymore br br its a low budget film thats never a problem in itself there be some pretty interest character but eventually i just lose interest br br i imagine this film would appeal to a stoner who be currently partake br br for something similar but better try brother from another planet\n",
      "\n",
      "i saw this movie when i be about 12 when it come out i recall the scariest scene be the big bird eat men dangle helplessly from parachute right out of the air the horror the horror br br as a young kid go to these cheesy b film on saturday afternoons i still be tire of the formula for these monster type movies that usually include the hero a beautiful woman who might be the daughter of a professor and a happy resolution when the monster die in the end i didn t care much for the romantic angle as a 12 year old and the predictable plot i love them now for the unintentional humor br br but about a year or so later i saw psycho when it come out and i love that the star janet leigh be bump off early in the film i sit up and take notice at that point since screenwriters be make up the story make it up to be as scary as possible and not from a well wear formula there be no rule\n",
      "\n",
      "so im not a big fan of boll s work but then again not many be i enjoy his movie postal maybe im the only one boll apparently buy the right to use far cry long ago even before the game itself be even finsished br br people who have enjoy kill mercs and infiltrate secret research labs locate on a tropical island should be warn that this be not far cry this be something mr boll have scheme together along with his legion of schmucks feel loneley on the set mr boll invite three of his countrymen to play with these players go by the name of til schweiger udo kier and ralf moeller br br three name that actually have make them selfs pretty big in the movie biz so the tale go like this jack carver play by til schweiger yes carver be german all hail the bratwurst eat dudes however i find that tils act in this movie be pretty badass people have complain about how he s not really stay true to the whole carver agenda but we only saw carver in a first person perspective so we don t really know what he look like when he be kick a br br however the storyline in this film be beyond demented we see the evil mad scientist dr krieger play by udo kier make genetically mutate soldier or gms as they be call perform his top secret research on an island that remind me of spoiler vancouver for some reason thats right no palm tree here instead we get some nice rich lumberjack woods we haven t even go far before i start to cry mehehe i cannot go on any more if you wanna stay true to bolls shenanigans then go and see this movie you will not be disappoint it deliver the true boll experience mean most of it will suck br br there be some things worth mention that would imply that boll do a good work on some areas of the film such as some nice boat and fight scenes until the whole cromed albino gms squad enter the scene and everything just make me laugh the movie far cry reek of scheisse that s poop for you simpletons from a fa r if you wanna take a wiff go ahead btw carver get a very annoy sidekick who make you wanna shoot him the first three minutes he s on screen\n",
      "\n",
      "the cast play shakespeare br br shakespeare lose br br i appreciate that this be try to bring shakespeare to the mass but why ruin something so good br br be it because the scottish play be my favorite shakespeare i do not know what i do know be that a certain rev bowdler hence bowdlerization try to do something similar in the victorian era br br in other word you cannot improve perfection br br i have no more to write but as i have to write at least ten line of text and english composition be never my forte i will just have to keep go and say that this movie as the say go just do not cut it\n",
      "\n",
      "this a fantastic movie of three prisoners who become famous one of the actors be george clooney and i m not a fan but this roll be not bad another good thing about the movie be the soundtrack the man of constant sorrow i recommand this movie to everybody greet bart\n",
      "\n"
     ]
    }
   ],
   "source": [
    "for i in range(15):\n",
    "    print(df['review'][i])\n",
    "    print()"
   ]
  },
  {
   "cell_type": "markdown",
   "id": "450434bf",
   "metadata": {},
   "source": [
    "### Split the dataset into Input (X) & Target (y) variable"
   ]
  },
  {
   "cell_type": "code",
   "execution_count": 18,
   "id": "80fd9ed3",
   "metadata": {},
   "outputs": [],
   "source": [
    "X=df['review']\n",
    "y=df['sentiment']"
   ]
  },
  {
   "cell_type": "markdown",
   "id": "567f8084",
   "metadata": {},
   "source": [
    "### Convert y variable values into 0 and 1 from positive and negative"
   ]
  },
  {
   "cell_type": "code",
   "execution_count": 19,
   "id": "3d083a00",
   "metadata": {},
   "outputs": [],
   "source": [
    "def zero_one(sentiment):\n",
    "    if sentiment == 'negative':\n",
    "        return 1\n",
    "    elif sentiment == 'positive':\n",
    "        return 0\n",
    "    else:\n",
    "        return None "
   ]
  },
  {
   "cell_type": "code",
   "execution_count": 20,
   "id": "82cedbe1",
   "metadata": {},
   "outputs": [],
   "source": [
    "y=y.apply(zero_one)\n"
   ]
  },
  {
   "cell_type": "code",
   "execution_count": 21,
   "id": "d9bca816",
   "metadata": {},
   "outputs": [
    {
     "data": {
      "text/plain": [
       "0        0\n",
       "1        0\n",
       "2        0\n",
       "3        1\n",
       "4        0\n",
       "        ..\n",
       "49995    0\n",
       "49996    1\n",
       "49997    1\n",
       "49998    1\n",
       "49999    1\n",
       "Name: sentiment, Length: 49582, dtype: int64"
      ]
     },
     "execution_count": 21,
     "metadata": {},
     "output_type": "execute_result"
    }
   ],
   "source": [
    "y"
   ]
  },
  {
   "cell_type": "markdown",
   "id": "c086feab",
   "metadata": {},
   "source": [
    "### Create Keras tokenizer object with 5000 max words\n",
    "* Convert text to sequence\n",
    "* Add padding"
   ]
  },
  {
   "cell_type": "code",
   "execution_count": 22,
   "id": "4d29d0ad",
   "metadata": {},
   "outputs": [],
   "source": [
    "from keras.preprocessing.text import Tokenizer\n",
    "from keras.preprocessing.sequence import pad_sequences"
   ]
  },
  {
   "cell_type": "code",
   "execution_count": 23,
   "id": "95c231de",
   "metadata": {},
   "outputs": [],
   "source": [
    "tokenizer=Tokenizer(num_words=5000)"
   ]
  },
  {
   "cell_type": "markdown",
   "id": "6f07f68e",
   "metadata": {},
   "source": [
    "### Split the dataset into Training & Testing set"
   ]
  },
  {
   "cell_type": "code",
   "execution_count": 24,
   "id": "6cf61208",
   "metadata": {},
   "outputs": [],
   "source": [
    "X_train,X_test,y_train,y_test=train_test_split(X,y,test_size=.5)"
   ]
  },
  {
   "cell_type": "code",
   "execution_count": 25,
   "id": "51360dc2",
   "metadata": {},
   "outputs": [],
   "source": [
    "#\"fit_on_texts\" - This method creates the vocabulary index based on word frequency. Each word gets a unique id\n",
    "tokenizer.fit_on_texts(X_train)"
   ]
  },
  {
   "cell_type": "code",
   "execution_count": 26,
   "id": "ccb02dd8",
   "metadata": {},
   "outputs": [],
   "source": [
    "vocab_size=len(tokenizer.word_index)+1"
   ]
  },
  {
   "cell_type": "code",
   "execution_count": 27,
   "id": "32417b91",
   "metadata": {},
   "outputs": [
    {
     "data": {
      "text/plain": [
       "65047"
      ]
     },
     "execution_count": 27,
     "metadata": {},
     "output_type": "execute_result"
    }
   ],
   "source": [
    "len(tokenizer.word_index)"
   ]
  },
  {
   "cell_type": "code",
   "execution_count": 28,
   "id": "4c2a9523",
   "metadata": {},
   "outputs": [
    {
     "data": {
      "text/plain": [
       "<keras.src.preprocessing.text.Tokenizer at 0x290a26e50>"
      ]
     },
     "execution_count": 28,
     "metadata": {},
     "output_type": "execute_result"
    }
   ],
   "source": [
    "tokenizer"
   ]
  },
  {
   "cell_type": "code",
   "execution_count": 29,
   "id": "8f3ba7d8",
   "metadata": {},
   "outputs": [],
   "source": [
    "def text_encoding(txt):\n",
    "    # texts_to_sequences Transforms each text in texts to a sequence of integers.\n",
    "    encoded_docs = tokenizer.texts_to_sequences(txt)\n",
    "    \n",
    "    # pad_sequences is used to ensure that all sequences in a list have the same length.\n",
    "    padded_sequence = pad_sequences(encoded_docs, maxlen=2000)    \n",
    "       \n",
    "    return padded_sequence"
   ]
  },
  {
   "cell_type": "code",
   "execution_count": 30,
   "id": "dcdbb783",
   "metadata": {},
   "outputs": [
    {
     "data": {
      "text/plain": [
       "2525"
      ]
     },
     "execution_count": 30,
     "metadata": {},
     "output_type": "execute_result"
    }
   ],
   "source": [
    "max_length = df['review'].apply(lambda x: len(x.split())).max()\n",
    "max_length"
   ]
  },
  {
   "cell_type": "code",
   "execution_count": 31,
   "id": "8f7b6590",
   "metadata": {},
   "outputs": [],
   "source": [
    "#Apply the function on both Training and Testing set\n",
    "X_train=text_encoding(X_train)\n",
    "X_test=text_encoding(X_test)"
   ]
  },
  {
   "cell_type": "markdown",
   "id": "1f4dba57",
   "metadata": {},
   "source": [
    "### Create keras Sequential Model with LSTM Layers"
   ]
  },
  {
   "cell_type": "code",
   "execution_count": 32,
   "id": "346d04f3",
   "metadata": {},
   "outputs": [
    {
     "data": {
      "text/plain": [
       "65048"
      ]
     },
     "execution_count": 32,
     "metadata": {},
     "output_type": "execute_result"
    }
   ],
   "source": [
    "vocab_size"
   ]
  },
  {
   "cell_type": "code",
   "execution_count": 33,
   "id": "6c8fc950",
   "metadata": {},
   "outputs": [],
   "source": [
    "from keras import Sequential\n",
    "from keras import layers"
   ]
  },
  {
   "cell_type": "code",
   "execution_count": 34,
   "id": "31a020f3",
   "metadata": {},
   "outputs": [],
   "source": [
    "model=Sequential()\n",
    "#embedding layer\n",
    "model.add(layers.Embedding(vocab_size,128))\n",
    "#lstm layer\n",
    "model.add(layers.LSTM(128,return_sequences=True))\n",
    "model.add(layers.Dropout(0.2))\n",
    "\n",
    "model.add(layers.LSTM(128))\n",
    "model.add(layers.Dropout(0.2))\n",
    "\n",
    "model.add(layers.Dense(64,activation='relu'))\n",
    "model.add(layers.Dropout(0.2))\n",
    "\n",
    "model.add(layers.Dense(1,activation='softmax'))"
   ]
  },
  {
   "cell_type": "code",
   "execution_count": 35,
   "id": "51a42896",
   "metadata": {},
   "outputs": [
    {
     "name": "stdout",
     "output_type": "stream",
     "text": [
      "Model: \"sequential\"\n",
      "_________________________________________________________________\n",
      " Layer (type)                Output Shape              Param #   \n",
      "=================================================================\n",
      " embedding (Embedding)       (None, None, 128)         8326144   \n",
      "                                                                 \n",
      " lstm (LSTM)                 (None, None, 128)         131584    \n",
      "                                                                 \n",
      " dropout (Dropout)           (None, None, 128)         0         \n",
      "                                                                 \n",
      " lstm_1 (LSTM)               (None, 128)               131584    \n",
      "                                                                 \n",
      " dropout_1 (Dropout)         (None, 128)               0         \n",
      "                                                                 \n",
      " dense (Dense)               (None, 64)                8256      \n",
      "                                                                 \n",
      " dropout_2 (Dropout)         (None, 64)                0         \n",
      "                                                                 \n",
      " dense_1 (Dense)             (None, 1)                 65        \n",
      "                                                                 \n",
      "=================================================================\n",
      "Total params: 8597633 (32.80 MB)\n",
      "Trainable params: 8597633 (32.80 MB)\n",
      "Non-trainable params: 0 (0.00 Byte)\n",
      "_________________________________________________________________\n"
     ]
    }
   ],
   "source": [
    "model.summary()"
   ]
  },
  {
   "cell_type": "markdown",
   "id": "4999db65",
   "metadata": {},
   "source": [
    "### Compile the model"
   ]
  },
  {
   "cell_type": "code",
   "execution_count": 36,
   "id": "5cd5b431",
   "metadata": {},
   "outputs": [
    {
     "data": {
      "text/plain": [
       "15438    1\n",
       "29402    1\n",
       "3752     1\n",
       "7155     1\n",
       "25836    1\n",
       "        ..\n",
       "48769    0\n",
       "38858    0\n",
       "6100     0\n",
       "37867    0\n",
       "19646    0\n",
       "Name: sentiment, Length: 24791, dtype: int64"
      ]
     },
     "execution_count": 36,
     "metadata": {},
     "output_type": "execute_result"
    }
   ],
   "source": [
    "y_train"
   ]
  },
  {
   "cell_type": "code",
   "execution_count": 37,
   "id": "91b48ae1",
   "metadata": {},
   "outputs": [],
   "source": [
    "model.compile(optimizer='adam', loss='binary_crossentropy', metrics=['accuracy'])\n"
   ]
  },
  {
   "cell_type": "markdown",
   "id": "e47a9466",
   "metadata": {},
   "source": [
    "### Train the model with our training set"
   ]
  },
  {
   "cell_type": "code",
   "execution_count": 38,
   "id": "e0f1d138",
   "metadata": {},
   "outputs": [
    {
     "data": {
      "text/plain": [
       "{0, 1}"
      ]
     },
     "execution_count": 38,
     "metadata": {},
     "output_type": "execute_result"
    }
   ],
   "source": [
    "set(y_train)"
   ]
  },
  {
   "cell_type": "code",
   "execution_count": 39,
   "id": "0fc412aa",
   "metadata": {},
   "outputs": [
    {
     "name": "stdout",
     "output_type": "stream",
     "text": [
      "Epoch 1/5\n",
      "620/620 [==============================] - 1886s 3s/step - loss: 0.4805 - accuracy: 0.4991 - val_loss: 0.3573 - val_accuracy: 0.5037\n",
      "Epoch 2/5\n",
      "620/620 [==============================] - 2749s 4s/step - loss: 0.3098 - accuracy: 0.4991 - val_loss: 0.3843 - val_accuracy: 0.5037\n",
      "Epoch 3/5\n",
      "620/620 [==============================] - 27206s 44s/step - loss: 0.2581 - accuracy: 0.4991 - val_loss: 0.3412 - val_accuracy: 0.5037\n",
      "Epoch 4/5\n",
      "620/620 [==============================] - 1975s 3s/step - loss: 0.2233 - accuracy: 0.4991 - val_loss: 0.4008 - val_accuracy: 0.5037\n",
      "Epoch 5/5\n",
      "620/620 [==============================] - 4729s 8s/step - loss: 0.1968 - accuracy: 0.4991 - val_loss: 0.3364 - val_accuracy: 0.5037\n"
     ]
    },
    {
     "data": {
      "text/plain": [
       "<keras.src.callbacks.History at 0x291906190>"
      ]
     },
     "execution_count": 39,
     "metadata": {},
     "output_type": "execute_result"
    }
   ],
   "source": [
    "model.fit(X_train,y_train,epochs=5,validation_split=0.2)"
   ]
  },
  {
   "cell_type": "markdown",
   "id": "51919aea",
   "metadata": {},
   "source": [
    "### Make prediction with X_test"
   ]
  },
  {
   "cell_type": "code",
   "execution_count": 42,
   "id": "6686fafd",
   "metadata": {},
   "outputs": [
    {
     "name": "stdout",
     "output_type": "stream",
     "text": [
      "775/775 [==============================] - 649s 837ms/step\n"
     ]
    }
   ],
   "source": [
    "y_pred=model.predict(X_test)"
   ]
  },
  {
   "cell_type": "markdown",
   "id": "bb2d0c16",
   "metadata": {},
   "source": [
    "### Convert to 0 and 1 with higher probability towards 1"
   ]
  },
  {
   "cell_type": "code",
   "execution_count": 45,
   "id": "30cf0090",
   "metadata": {},
   "outputs": [],
   "source": [
    "y_pred=[np.argmax(i) for i in y_pred]"
   ]
  },
  {
   "cell_type": "code",
   "execution_count": 46,
   "id": "680751b9",
   "metadata": {},
   "outputs": [
    {
     "data": {
      "text/plain": [
       "24791"
      ]
     },
     "execution_count": 46,
     "metadata": {},
     "output_type": "execute_result"
    }
   ],
   "source": [
    "len(y_pred)"
   ]
  },
  {
   "cell_type": "code",
   "execution_count": 47,
   "id": "260972f4",
   "metadata": {},
   "outputs": [
    {
     "data": {
      "text/plain": [
       "24791"
      ]
     },
     "execution_count": 47,
     "metadata": {},
     "output_type": "execute_result"
    }
   ],
   "source": [
    "len(y_test)"
   ]
  },
  {
   "cell_type": "code",
   "execution_count": 48,
   "id": "93d578aa",
   "metadata": {},
   "outputs": [],
   "source": [
    "y_test=[np.argmax(i) for i in y_test]"
   ]
  },
  {
   "cell_type": "markdown",
   "id": "902a2da4",
   "metadata": {},
   "source": [
    "### Evaluate the model"
   ]
  },
  {
   "cell_type": "code",
   "execution_count": 49,
   "id": "cff9ea47",
   "metadata": {},
   "outputs": [],
   "source": [
    "from sklearn.metrics import confusion_matrix, classification_report, accuracy_score\n"
   ]
  },
  {
   "cell_type": "markdown",
   "id": "1c8bd282",
   "metadata": {},
   "source": [
    "### Check accuracy score"
   ]
  },
  {
   "cell_type": "code",
   "execution_count": 51,
   "id": "976ce5ba",
   "metadata": {},
   "outputs": [
    {
     "data": {
      "text/plain": [
       "1.0"
      ]
     },
     "execution_count": 51,
     "metadata": {},
     "output_type": "execute_result"
    }
   ],
   "source": [
    "accuracy_score(y_test,y_pred)"
   ]
  },
  {
   "cell_type": "markdown",
   "id": "d14f7b63",
   "metadata": {},
   "source": [
    "### Check confusion matrix"
   ]
  },
  {
   "cell_type": "code",
   "execution_count": 53,
   "id": "6c7aaab9",
   "metadata": {},
   "outputs": [
    {
     "data": {
      "text/plain": [
       "<Axes: >"
      ]
     },
     "execution_count": 53,
     "metadata": {},
     "output_type": "execute_result"
    },
    {
     "data": {
      "image/png": "[encoded data removed]",
      "text/plain": [
       "<Figure size 640x480 with 2 Axes>"
      ]
     },
     "metadata": {},
     "output_type": "display_data"
    }
   ],
   "source": [
    "sns.heatmap(confusion_matrix(y_test,y_pred),annot=True,fmt='d')"
   ]
  },
  {
   "cell_type": "markdown",
   "id": "953c5941",
   "metadata": {},
   "source": [
    "### Print Classification report"
   ]
  },
  {
   "cell_type": "code",
   "execution_count": 54,
   "id": "1b7e89ca",
   "metadata": {},
   "outputs": [
    {
     "name": "stdout",
     "output_type": "stream",
     "text": [
      "              precision    recall  f1-score   support\n",
      "\n",
      "           0       1.00      1.00      1.00     24791\n",
      "\n",
      "    accuracy                           1.00     24791\n",
      "   macro avg       1.00      1.00      1.00     24791\n",
      "weighted avg       1.00      1.00      1.00     24791\n",
      "\n"
     ]
    }
   ],
   "source": [
    "print(classification_report(y_test,y_pred))"
   ]
  },
  {
   "cell_type": "markdown",
   "id": "8d084185",
   "metadata": {},
   "source": [
    "***"
   ]
  }
 ],
 "metadata": {
  "kernelspec": {
   "display_name": "Python 3 (ipykernel)",
   "language": "python",
   "name": "python3"
  },
  "language_info": {
   "codemirror_mode": {
    "name": "ipython",
    "version": 3
   },
   "file_extension": ".py",
   "mimetype": "text/x-python",
   "name": "python",
   "nbconvert_exporter": "python",
   "pygments_lexer": "ipython3",
   "version": "3.11.5"
  }
 },
 "nbformat": 4,
 "nbformat_minor": 5
}
